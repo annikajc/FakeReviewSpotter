{
 "cells": [
  {
   "cell_type": "code",
   "execution_count": 1,
   "metadata": {},
   "outputs": [
    {
     "name": "stderr",
     "output_type": "stream",
     "text": [
      "c:\\Users\\mmapa\\anaconda3\\lib\\site-packages\\transformers\\utils\\generic.py:260: UserWarning: torch.utils._pytree._register_pytree_node is deprecated. Please use torch.utils._pytree.register_pytree_node instead.\n",
      "  torch.utils._pytree._register_pytree_node(\n"
     ]
    }
   ],
   "source": [
    "from src.dataset import DataModuleFakeReviews\n",
    "from src.model import FakeReviewsLightning\n",
    "import torch\n",
    "from pytorch_lightning.callbacks import ModelCheckpoint, ModelSummary, EarlyStopping\n",
    "from pytorch_lightning import Trainer\n",
    "from lightning.pytorch.tuner import Tuner\n",
    "from clearml import Task"
   ]
  },
  {
   "cell_type": "code",
   "execution_count": 2,
   "metadata": {},
   "outputs": [],
   "source": [
    "# set Task credentials\n",
    "Task.set_credentials(\n",
    "    #  api_host=\"https://api.clear.ml\", \n",
    "    #  web_host=\"https://app.clear.ml\", \n",
    "    #  files_host=\"https://files.clear.ml\", \n",
    "    #  key='6ZHX9UQMYL874A1NE8', \n",
    "    #  secret='=2h6#%@Y&m*tC!VLEXq&JI7QhZPKuJfbaYD4!uUk(t7=9ENv'\n",
    ")"
   ]
  },
  {
   "cell_type": "code",
   "execution_count": null,
   "metadata": {},
   "outputs": [],
   "source": [
    "task = Task.init(project_name=\"Fake Review Detection\",\n",
    "                    task_name=\"finetune RoBERTa - v1.0\")\n",
    "\n",
    "# initialize data module and model\n",
    "cuda_available = torch.cuda.is_available()\n",
    "device = torch.device(\"cuda\" if cuda_available else \"cpu\")\n",
    "print(device)\n",
    "print(\"   \\   \")\n",
    "print(\"   ^ ^ \")\n",
    "print(\"  {'.'}\")\n",
    "print(\"? /  | \")\n",
    "print(\"\\|  || \")\n",
    "\n",
    "# enable cudnn benchmarking if available\n",
    "torch.backends.cudnn.benchmark = True if torch.backends.cudnn.is_available() and cuda_available else False\n",
    "\n",
    "torch.set_float32_matmul_precision('high')\n",
    "\n",
    "datamodule = DataModuleFakeReviews(batch_size=4, num_workers=8)\n",
    "\n",
    "model = FakeReviewsLightning(clearml_logger=task.get_logger(), device=device).to(device)\n",
    "\n",
    "# initialize checkpoint callback depending on parse arguments\n",
    "checkpoint_callback = ModelCheckpoint(dirpath=\"checkpoints/\", monitor=\"val_loss\", mode=\"min\")\n",
    "\n",
    "trainer = Trainer(accelerator=\"gpu\", max_epochs=1, profiler=\"simple\",\n",
    "                        callbacks=[checkpoint_callback, ModelSummary(4),\n",
    "                                    EarlyStopping(monitor=\"val_loss\",\n",
    "                                                mode=\"min\",\n",
    "                                                patience=10)],\n",
    "                        strategy=\"auto\", enable_checkpointing=True, limit_train_batches=10, limit_val_batches=10)\n",
    "# tuner = Tuner(trainer)\n",
    "# tuner.scale_batch_size(model, datamodule=datamodule, mode=\"power\")\n",
    "\n",
    "# else:\n",
    "#     print(\"No GPU\")\n",
    "\n",
    "# fit model\n",
    "trainer.fit(model=model, datamodule=datamodule)"
   ]
  }
 ],
 "metadata": {
  "kernelspec": {
   "display_name": "base",
   "language": "python",
   "name": "python3"
  },
  "language_info": {
   "codemirror_mode": {
    "name": "ipython",
    "version": 3
   },
   "file_extension": ".py",
   "mimetype": "text/x-python",
   "name": "python",
   "nbconvert_exporter": "python",
   "pygments_lexer": "ipython3",
   "version": "3.9.18"
  }
 },
 "nbformat": 4,
 "nbformat_minor": 2
}
